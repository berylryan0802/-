{
  "nbformat": 4,
  "nbformat_minor": 0,
  "metadata": {
    "colab": {
      "provenance": []
    },
    "kernelspec": {
      "name": "python3",
      "display_name": "Python 3"
    },
    "language_info": {
      "name": "python"
    }
  },
  "cells": [
    {
      "cell_type": "code",
      "execution_count": 22,
      "metadata": {
        "colab": {
          "base_uri": "https://localhost:8080/"
        },
        "id": "OIYJqe-4t3It",
        "outputId": "46560b92-9ef9-4f88-e9bb-dd92e2856f87"
      },
      "outputs": [
        {
          "output_type": "stream",
          "name": "stdout",
          "text": [
            "請輸入聖誕樹高度9\n",
            "        *\n",
            "       ***\n",
            "      *****\n",
            "     *******\n",
            "    *********\n",
            "   ***********\n",
            "  *************\n",
            " ***************\n",
            "*****************\n",
            "        ***\n",
            "        ***\n",
            "        ***\n"
          ]
        }
      ],
      "source": [
        "def tree(height):\n",
        "  for i in range(1,height+1):\n",
        "    spaces = height - i\n",
        "    print(\" \"*spaces, end=\"\")\n",
        "    print(\"*\"*(2*i-1))\n",
        "\n",
        "  trunk_spaces = height - 1\n",
        "  for _ in range(3):\n",
        "    print(\" \"*trunk_spaces+\"***\")\n",
        "\n",
        "tree_height=int(input('請輸入聖誕樹高度'))\n",
        "if tree_height<7:\n",
        "  print(\"請入至少7層以上的高度\")\n",
        "else:\n",
        "  tree(tree_height)"
      ]
    },
    {
      "cell_type": "code",
      "source": [
        "def calculate_bmi(height,weight):\n",
        "  try:\n",
        "    height=float(height)/100\n",
        "    weight=float(weight)\n",
        "    bmi=weight/(height**2)\n",
        "    return bmi\n",
        "  except ValueError:\n",
        "    print(\"輸入內容錯誤!\")\n",
        "    exit()\n",
        "def evaluate_bmi(bmi):\n",
        "  if bmi<18.5:\n",
        "    return\"體位:過輕\"\n",
        "  elif 18.5<=bmi<24:\n",
        "    return\"體位:適中\"\n",
        "  elif 24<=bmi<27:\n",
        "    return\"體位:過重\"\n",
        "  else:\n",
        "    return\"體位:肥胖\"\n",
        "\n",
        "height_input=input(\"輸入身高(公分)\")\n",
        "weight_input=input(\"輸入體重(公斤)\")\n",
        "\n",
        "try:\n",
        "  bmi_result = calculate_bmi(height_input,weight_input)\n",
        "  bmi_evaluation = evaluate_bmi(bmi_result)\n",
        "  print(\"BMI:\",bmi_result)\n",
        "  print(bmi_evaluation)\n",
        "except ValueError:\n",
        "  print(\"輸入內容錯誤，請輸入數字\")\n"
      ],
      "metadata": {
        "colab": {
          "base_uri": "https://localhost:8080/"
        },
        "id": "Hae75jdNy4Tz",
        "outputId": "672e55ae-febe-440a-9148-b76b03de2db9"
      },
      "execution_count": 26,
      "outputs": [
        {
          "output_type": "stream",
          "name": "stdout",
          "text": [
            "輸入身高(公分)500\n",
            "輸入體重(公斤)75\n",
            "BMI: 3.0\n",
            "體位:過輕\n"
          ]
        }
      ]
    }
  ]
}