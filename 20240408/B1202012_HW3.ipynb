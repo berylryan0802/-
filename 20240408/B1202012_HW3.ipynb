{
  "nbformat": 4,
  "nbformat_minor": 0,
  "metadata": {
    "colab": {
      "provenance": []
    },
    "kernelspec": {
      "name": "python3",
      "display_name": "Python 3"
    },
    "language_info": {
      "name": "python"
    }
  },
  "cells": [
    {
      "cell_type": "code",
      "execution_count": 3,
      "metadata": {
        "colab": {
          "base_uri": "https://localhost:8080/"
        },
        "id": "mG3vUeSJsrGt",
        "outputId": "610c841c-2395-4098-e9a0-b869f667e633"
      },
      "outputs": [
        {
          "output_type": "stream",
          "name": "stdout",
          "text": [
            "輸入年分1999\n",
            "是平年\n"
          ]
        }
      ],
      "source": [
        "a=int(input('輸入年分'))\n",
        "if a>1582:\n",
        "  if a%400==0:\n",
        "    print('是閏年')\n",
        "  elif a%4==0 and a%100!=0:\n",
        "    print('是閏年')\n",
        "  else:\n",
        "    print('是平年')\n",
        "elif a%4==0:\n",
        "  print('是閏年')\n",
        "else:\n",
        "  print('是平年')\n",
        "\n",
        ""
      ]
    }
  ]
}