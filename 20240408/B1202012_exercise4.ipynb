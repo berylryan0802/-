{
  "nbformat": 4,
  "nbformat_minor": 0,
  "metadata": {
    "colab": {
      "provenance": []
    },
    "kernelspec": {
      "name": "python3",
      "display_name": "Python 3"
    },
    "language_info": {
      "name": "python"
    }
  },
  "cells": [
    {
      "cell_type": "code",
      "execution_count": 6,
      "metadata": {
        "colab": {
          "base_uri": "https://localhost:8080/"
        },
        "id": "KaK-QyUGhFAO",
        "outputId": "e9b96725-703f-4eaa-c853-b2d20f4aecd9"
      },
      "outputs": [
        {
          "output_type": "stream",
          "name": "stdout",
          "text": [
            "輸入身高(公分)182\n",
            "輸入體重(公斤)75\n",
            "22.6421929718633\n",
            "適中\n"
          ]
        }
      ],
      "source": [
        "a=float(input('輸入身高(公分)'))\n",
        "b=float(input('輸入體重(公斤)'))\n",
        "BMI=b/(a/100)**2\n",
        "print(BMI)\n",
        "if BMI<18.5:\n",
        "  print('體位:過輕')\n",
        "elif 18.5<=BMI<24:\n",
        "  print('體位:適中')\n",
        "elif 24<=BMI<27:\n",
        "  print('體位:過重')\n",
        "else:\n",
        "  print('體位:肥胖')\n"
      ]
    },
    {
      "cell_type": "code",
      "source": [
        "a=float(input('輸入一個數字'))\n",
        "b=float(input('輸入第二個數字'))\n",
        "c=str(input('輸入一個運算符號'))\n",
        "if c=='+':\n",
        "  print(a+b)\n",
        "elif c=='-':\n",
        "  print(a-b)\n",
        "elif c=='*':\n",
        "  print(a*b)\n",
        "elif c=='/' :\n",
        "  print(a/b)\n",
        ""
      ],
      "metadata": {
        "colab": {
          "base_uri": "https://localhost:8080/"
        },
        "id": "7r2R9r6YnK7w",
        "outputId": "9d4f62ba-17e1-442a-df16-eaed6f230919"
      },
      "execution_count": 12,
      "outputs": [
        {
          "output_type": "stream",
          "name": "stdout",
          "text": [
            "輸入一個數字1\n",
            "輸入第二個數字2\n",
            "輸入一個運算符號-\n",
            "-1.0\n"
          ]
        }
      ]
    }
  ]
}