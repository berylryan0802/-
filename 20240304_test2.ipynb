{
  "nbformat": 4,
  "nbformat_minor": 0,
  "metadata": {
    "colab": {
      "provenance": []
    },
    "kernelspec": {
      "name": "python3",
      "display_name": "Python 3"
    },
    "language_info": {
      "name": "python"
    }
  },
  "cells": [
    {
      "cell_type": "code",
      "execution_count": null,
      "metadata": {
        "colab": {
          "base_uri": "https://localhost:8080/"
        },
        "id": "t450zfXDd7C_",
        "outputId": "ebeaf7d9-53d3-4bec-b5df-a403494e1735"
      },
      "outputs": [
        {
          "output_type": "stream",
          "name": "stdout",
          "text": [
            "Answer is 495\n"
          ]
        }
      ],
      "source": [
        "x=2\n",
        "y=1\n",
        "\n",
        "a=2*x+y\n",
        "b=100-y\n",
        "\n",
        "z=a*b\n",
        "\n",
        "print(\"Answer is\",z)"
      ]
    },
    {
      "cell_type": "code",
      "source": [
        "y=4\n",
        "\n",
        "a=100\n",
        "b=2*y+1\n",
        "z=a/b\n",
        "\n",
        "print(\"Answer is\",z)"
      ],
      "metadata": {
        "colab": {
          "base_uri": "https://localhost:8080/"
        },
        "id": "PYWjrCxFficD",
        "outputId": "374f78e4-d215-4dca-c9f2-31ef422743f5"
      },
      "execution_count": null,
      "outputs": [
        {
          "output_type": "stream",
          "name": "stdout",
          "text": [
            "Answer is 11.11111111111111\n"
          ]
        }
      ]
    }
  ]
}