{
  "nbformat": 4,
  "nbformat_minor": 0,
  "metadata": {
    "colab": {
      "provenance": []
    },
    "kernelspec": {
      "name": "python3",
      "display_name": "Python 3"
    },
    "language_info": {
      "name": "python"
    }
  },
  "cells": [
    {
      "cell_type": "code",
      "execution_count": 16,
      "metadata": {
        "colab": {
          "base_uri": "https://localhost:8080/"
        },
        "id": "hcB99JrEeLzC",
        "outputId": "4f8bf619-e586-4e0a-dbf6-68c49fb1ed0b"
      },
      "outputs": [
        {
          "output_type": "stream",
          "name": "stdout",
          "text": [
            "88.33333333333333\n",
            "{'姓名': '賴宏瑋', '性別': '男', '學號': 'M1129020'}\n",
            "95.0\n",
            "{'姓名': '許珈綺', '性別': '女', '學號': 'M1229001'}\n"
          ]
        }
      ],
      "source": [
        "a={'姓名':'賴宏瑋','性別':'男','作業分數':[95,100,90]}\n",
        "b={'學號':'M1129020'}\n",
        "c={**a,**b}\n",
        "import copy\n",
        "d=copy.deepcopy(c)\n",
        "c['作業分數'][1]=80\n",
        "d['姓名']='許珈綺'\n",
        "d['性別']='女'\n",
        "d['學號']='M1229001'\n",
        "f=c.pop('作業分數')\n",
        "average1=sum(f)/len(f)\n",
        "print(average1)\n",
        "print(c)\n",
        "g=d.pop('作業分數')\n",
        "average2=sum(g)/len(g)\n",
        "print(average2)\n",
        "print(d)"
      ]
    },
    {
      "cell_type": "code",
      "source": [
        "a=[100,50,45,60,90,95,80,50]\n",
        "a.insert(0,88)\n",
        "a[2:5]=[70,50]\n",
        "a.remove(50)\n",
        "b=a.pop(0)\n",
        "c=a.pop(-1)\n",
        "d=b+c\n",
        "print(d)"
      ],
      "metadata": {
        "colab": {
          "base_uri": "https://localhost:8080/"
        },
        "id": "r8R3elHskbPN",
        "outputId": "6b510001-fd4c-46ed-cd9c-4af1fac7a82f"
      },
      "execution_count": 27,
      "outputs": [
        {
          "output_type": "stream",
          "name": "stdout",
          "text": [
            "138\n"
          ]
        }
      ]
    },
    {
      "cell_type": "code",
      "source": [
        "from binascii import b2a_base64\n",
        "a=347\n",
        "b=3\n",
        "A=a//b\n",
        "B=a%b\n",
        "C=A**B\n",
        "print(C)"
      ],
      "metadata": {
        "colab": {
          "base_uri": "https://localhost:8080/"
        },
        "id": "2irVHF3xn8ml",
        "outputId": "9fc9e649-8d1f-4663-9fd6-4ca1c65c42f6"
      },
      "execution_count": 28,
      "outputs": [
        {
          "output_type": "stream",
          "name": "stdout",
          "text": [
            "13225\n"
          ]
        }
      ]
    }
  ]
}