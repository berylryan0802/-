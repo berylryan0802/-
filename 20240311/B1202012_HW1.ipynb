{
  "nbformat": 4,
  "nbformat_minor": 0,
  "metadata": {
    "colab": {
      "provenance": []
    },
    "kernelspec": {
      "name": "python3",
      "display_name": "Python 3"
    },
    "language_info": {
      "name": "python"
    }
  },
  "cells": [
    {
      "cell_type": "code",
      "execution_count": null,
      "metadata": {
        "colab": {
          "base_uri": "https://localhost:8080/"
        },
        "id": "if0d4f-Bm9tb",
        "outputId": "80201eff-c356-45f5-d35a-1411654d234d"
      },
      "outputs": [
        {
          "output_type": "stream",
          "name": "stdout",
          "text": [
            "I'm a student\n"
          ]
        }
      ],
      "source": [
        "print(\"I'm a student\")"
      ]
    },
    {
      "cell_type": "code",
      "source": [
        "a=float(input('x1='))\n",
        "b=float(input('y1='))\n",
        "c=float(input('x2='))\n",
        "d=float(input('y1='))\n",
        "z=(((a-c)**2+(b-d)**2)**0.5)\n",
        "print(z)"
      ],
      "metadata": {
        "id": "Lnsbrm4GnI-e",
        "colab": {
          "base_uri": "https://localhost:8080/"
        },
        "outputId": "e8d6420c-afe3-44a4-83ff-743c0bd42268"
      },
      "execution_count": 4,
      "outputs": [
        {
          "output_type": "stream",
          "name": "stdout",
          "text": [
            "x1=55\n",
            "y1=74\n",
            "x2=44\n",
            "y1=44\n",
            "31.953090617340916\n"
          ]
        }
      ]
    },
    {
      "cell_type": "code",
      "source": [
        "a=float(input('輸入身高(單位:公分):'))\n",
        "b=float(input('輸入體重(單位:公斤):'))\n",
        "a/=100\n",
        "a*=a\n",
        "print(\"你的BMI是\",b/a)"
      ],
      "metadata": {
        "colab": {
          "base_uri": "https://localhost:8080/"
        },
        "id": "tJEA_DWohwzl",
        "outputId": "c4dc27ef-d371-4824-ab69-b0e8e12b561f"
      },
      "execution_count": 7,
      "outputs": [
        {
          "output_type": "stream",
          "name": "stdout",
          "text": [
            "輸入身高(單位:公分):182.3\n",
            "輸入體重(單位:公斤):99.999\n",
            "你的BMI是 30.090009144445215\n"
          ]
        }
      ]
    }
  ]
}