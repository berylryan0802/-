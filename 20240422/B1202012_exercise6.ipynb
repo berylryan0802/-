{
  "nbformat": 4,
  "nbformat_minor": 0,
  "metadata": {
    "colab": {
      "provenance": []
    },
    "kernelspec": {
      "name": "python3",
      "display_name": "Python 3"
    },
    "language_info": {
      "name": "python"
    }
  },
  "cells": [
    {
      "cell_type": "code",
      "execution_count": 19,
      "metadata": {
        "colab": {
          "base_uri": "https://localhost:8080/"
        },
        "id": "d7BhjlGLoYUO",
        "outputId": "63d2e8dd-bd1f-4d1f-ffa3-f20e13b064e1"
      },
      "outputs": [
        {
          "output_type": "stream",
          "name": "stdout",
          "text": [
            "1 * 1 =  1 1 * 2 =  2 1 * 3 =  3 1 * 4 =  4 1 * 5 =  5 1 * 6 =  6 1 * 7 =  7 1 * 8 =  8 1 * 9 =  9 \n",
            "\n",
            "2 * 1 =  2 2 * 2 =  4 2 * 3 =  6 2 * 4 =  8 2 * 5 = 10 2 * 6 = 12 2 * 7 = 14 2 * 8 = 16 2 * 9 = 18 \n",
            "\n",
            "3 * 1 =  3 3 * 2 =  6 3 * 3 =  9 3 * 4 = 12 3 * 5 = 15 3 * 6 = 18 3 * 7 = 21 3 * 8 = 24 3 * 9 = 27 \n",
            "\n",
            "4 * 1 =  4 4 * 2 =  8 4 * 3 = 12 4 * 4 = 16 4 * 5 = 20 4 * 6 = 24 4 * 7 = 28 4 * 8 = 32 4 * 9 = 36 \n",
            "\n",
            "5 * 1 =  5 5 * 2 = 10 5 * 3 = 15 5 * 4 = 20 5 * 5 = 25 5 * 6 = 30 5 * 7 = 35 5 * 8 = 40 5 * 9 = 45 \n",
            "\n",
            "6 * 1 =  6 6 * 2 = 12 6 * 3 = 18 6 * 4 = 24 6 * 5 = 30 6 * 6 = 36 6 * 7 = 42 6 * 8 = 48 6 * 9 = 54 \n",
            "\n",
            "7 * 1 =  7 7 * 2 = 14 7 * 3 = 21 7 * 4 = 28 7 * 5 = 35 7 * 6 = 42 7 * 7 = 49 7 * 8 = 56 7 * 9 = 63 \n",
            "\n",
            "8 * 1 =  8 8 * 2 = 16 8 * 3 = 24 8 * 4 = 32 8 * 5 = 40 8 * 6 = 48 8 * 7 = 56 8 * 8 = 64 8 * 9 = 72 \n",
            "\n",
            "9 * 1 =  9 9 * 2 = 18 9 * 3 = 27 9 * 4 = 36 9 * 5 = 45 9 * 6 = 54 9 * 7 = 63 9 * 8 = 72 9 * 9 = 81 \n",
            "\n"
          ]
        }
      ],
      "source": [
        "a=1\n",
        "while a<=9 :\n",
        "  b=1\n",
        "  while b<=9:\n",
        "    c=a*b\n",
        "    print(f\"{a} * {b} = {c:2}\" , end=\" \")\n",
        "    b+=1\n",
        "  a += 1\n",
        "  print('\\n')\n",
        ""
      ]
    },
    {
      "cell_type": "code",
      "source": [
        "import random\n",
        "ans = random.sample(range(1,10),4)\n",
        "print(ans)\n",
        "a=b=n=0\n",
        "k=0\n",
        "while a!=4:\n",
        "  a = b = n = 0\n",
        "  guess = list(input('輸入四個數字(不會重複)'))\n",
        "  if len(guess) > 4 :\n",
        "    guess= list(input(\"輸入數字過多，請輸入四個數字（不會重複）\"))\n",
        "  else:\n",
        "    guess= guess\n",
        "  for i in guess:\n",
        "    if int(guess[n]) == ans[n]:\n",
        "      a += 1\n",
        "    else:\n",
        "      if int(i) in ans:\n",
        "        b+=1\n",
        "    n+=1\n",
        "  output = ','.join(guess).replace(',','')\n",
        "  print(f'{output}: {a}A{b}B')\n",
        "  k+=1\n",
        "print('答對了 總共猜了'f'{k}次')"
      ],
      "metadata": {
        "colab": {
          "base_uri": "https://localhost:8080/"
        },
        "id": "DLP6GOVctmv_",
        "outputId": "73171190-b9ab-44b5-d619-540189c27738"
      },
      "execution_count": 58,
      "outputs": [
        {
          "output_type": "stream",
          "name": "stdout",
          "text": [
            "[5, 2, 6, 3]\n",
            "輸入四個數字(不會重複)41584584\n",
            "輸入數字過多，請輸入四個數字（不會重複）5489\n",
            "5489: 1A0B\n",
            "輸入四個數字(不會重複)5627\n",
            "5627: 1A2B\n",
            "輸入四個數字(不會重複)5236\n",
            "5236: 2A2B\n",
            "輸入四個數字(不會重複)5263\n",
            "5263: 4A0B\n",
            "答對了 總共猜了4次\n"
          ]
        }
      ]
    }
  ]
}